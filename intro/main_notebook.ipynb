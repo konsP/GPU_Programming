{
 "metadata": {
  "name": "",
  "signature": "sha256:10c21fd0eb80b3f8a511044a8d0ed6d4f2c70c8d4a8570e3e5488acef7cde40c"
 },
 "nbformat": 3,
 "nbformat_minor": 0,
 "worksheets": [
  {
   "cells": [
    {
     "cell_type": "markdown",
     "metadata": {},
     "source": [
      "# Your first CUDA code\n",
      "\n",
      "In this lab, you will learn how to adapt a code such that it uses the GPU. \n",
      "\n",
      "Lab created by EPCC, The University of Edinburgh. Documentation and source code copyright The University of Edinburgh 2014."
     ]
    },
    {
     "cell_type": "markdown",
     "metadata": {},
     "source": [
      "---\n",
      "First, please try and execute the below command. Give focus to the cell by clicking on it, and then either press the play button above or press your Enter key whilst holding down Shift."
     ]
    },
    {
     "cell_type": "code",
     "collapsed": false,
     "input": [
      "!echo \"This command is running on host $HOSTNAME\""
     ],
     "language": "python",
     "metadata": {},
     "outputs": [
      {
       "output_type": "stream",
       "stream": "stdout",
       "text": [
        "This command is running on host hector2.hydra\r\n"
       ]
      }
     ],
     "prompt_number": 73
    },
    {
     "cell_type": "markdown",
     "metadata": {},
     "source": [
      "## Introduction\n",
      "\n",
      "\n",
      "Click on the below link to allow you to edit the code from within your web browser: <br>\n",
      "<a href=http://gpulab.epcc.ed.ac.uk:50019/ target=\"_blank\"> Source Code Browser (opens in new tab)</a>\n",
      "\n",
      "The template source file is clearly marked with the sections to be edited, e.g.\n",
      "<code>\n",
      "/\\* Part 1A: allocate device memory \\*/\n",
      "</code>\n",
      "Please see below for instructions. Where necessary, you should refer to the CUDA C Programming Guide and Reference Manual documents available from\n",
      "http://developer.nvidia.com/nvidia-gpu-computing-documentation\n",
      " \n"
     ]
    },
    {
     "cell_type": "markdown",
     "metadata": {},
     "source": [
      "## 1) Copying Between Host and Device\n",
      "This simple CUDA code has the purpose of negating an array of integers. We introduce the important concepts of device-memory management and kernel invocation. The final version should copy an array of integers from the host to device, multiply each element by \u22121 on the device, and then copy the array back to the host.\n",
      "\n",
      "Choose the C or Fortran version by executing the corresponding cell below:\n"
     ]
    },
    {
     "cell_type": "markdown",
     "metadata": {},
     "source": [
      "------\n",
      "##C:"
     ]
    },
    {
     "cell_type": "code",
     "collapsed": false,
     "input": [
      "# set up a link to the C version of the templates\n",
      "!rm -rf src; ln -s src_c src; echo \"Using C version\""
     ],
     "language": "python",
     "metadata": {},
     "outputs": [
      {
       "output_type": "stream",
       "stream": "stdout",
       "text": [
        "Using C version\r\n"
       ]
      }
     ],
     "prompt_number": 74
    },
    {
     "cell_type": "markdown",
     "metadata": {},
     "source": [
      "-------\n",
      "##Fortran:"
     ]
    },
    {
     "cell_type": "code",
     "collapsed": false,
     "input": [
      "# set up a link to the Fortran version of the templates\n",
      "!rm -rf src; ln -s src_fortran src; echo \"Using Fortran version\""
     ],
     "language": "python",
     "metadata": {},
     "outputs": [],
     "prompt_number": 15
    },
    {
     "cell_type": "markdown",
     "metadata": {},
     "source": [
      "------\n",
      "###C:\n",
      "\n",
      "Start from the intro.cu template.\n",
      "<li> 1A) Allocate memory for the array on the device: use the existing pointer <code>d_a</code> and the variable\n",
      "<code>sz</code> (which has already been assigned the size of the array in bytes).\n",
      "<li> 1B) Copy the array <code>h_a</code> on the host to <code>d_a</code> on the device.\n",
      "<li> 1C) Copy <code>d_a</code> on the device back to <code>h_out</code> on the host.\n",
      "<li> 1D) Free <code>d_a</code>.\n",
      "\n",
      "Execute the 2 cells below to compile and run the code (noting that the <code>arch</code> flag specifies the compute capability of the CUDA device).\n"
     ]
    },
    {
     "cell_type": "markdown",
     "metadata": {},
     "source": [
      "--------\n",
      "###Fortran:\n",
      "\n",
      "Start from the intro.cuf template.\n",
      "<li> 1A) Allocate memory for the array on the device: use the existing pointer <code>d_a</code> and <code>ARRAY_SIZE</code> (which has already been assigned the size of the array in elements).\n",
      "<li> 1B) Copy the array <code>h_a</code> on the host to <code>d_a</code> on the device, using an appropriate assignment operation.\n",
      "<li> 1C) Copy <code>d_a</code> on the device back to <code>h_out</code> on the host, using another assignment operation.\n",
      "<li> 1D) Deallocate <code>d_a</code>.\n",
      "\n",
      "Execute the 2 cells below to compile and run the code (noting that the <code>Mcuda</code> flag specifies the compute capability of the CUDA device) \n",
      "\n",
      "----\n"
     ]
    },
    {
     "cell_type": "code",
     "collapsed": false,
     "input": [
      "# Execute this cell to compile the code. Wait until \"Complete\" is printed in the output. \n",
      "!cd src; make clean; make; cd ..; echo \"Complete\""
     ],
     "language": "python",
     "metadata": {},
     "outputs": [
      {
       "output_type": "stream",
       "stream": "stdout",
       "text": [
        "rm -f intro.o intro core\r\n",
        "nvcc -O3 -arch=sm_21 -dc -c intro.cu\r\n"
       ]
      },
      {
       "output_type": "stream",
       "stream": "stdout",
       "text": [
        "nvcc -O3 -arch=sm_21 -o intro intro.o \r\n"
       ]
      },
      {
       "output_type": "stream",
       "stream": "stdout",
       "text": [
        "Complete\r\n"
       ]
      }
     ],
     "prompt_number": 105
    },
    {
     "cell_type": "code",
     "collapsed": false,
     "input": [
      "# Execute this cell to run the code. Wait until \"Complete\" is printed in the output.\n",
      "!cd src; time ./intro; cd ..; echo \"Complete\" "
     ],
     "language": "python",
     "metadata": {},
     "outputs": [
      {
       "output_type": "stream",
       "stream": "stdout",
       "text": [
        "\r\n",
        "real\t0m0.144s\r\n",
        "user\t0m0.007s\r\n",
        "sys\t0m0.138s\r\n",
        "Complete\r\n"
       ]
      }
     ],
     "prompt_number": 106
    },
    {
     "cell_type": "markdown",
     "metadata": {},
     "source": [
      "\n",
      "------\n",
      "The output (the contents of the h_out array) or any error messages will be printed. So far the code simply copies from h_a on the host to d_a on the device, then copies d_a back to h_out, so the\u2018 output should be the initial content of h_a \u2014 the numbers 0 to 255."
     ]
    },
    {
     "cell_type": "markdown",
     "metadata": {},
     "source": [
      "##2) Launching Kernels\n",
      "\n",
      "###C:\n",
      "Now we will edit the intro.cu file to actually run a kernel on the GPU device.\n",
      "<li> 2A) Configure and launch the kernel using a 1D grid and a single thread block (<code>NUM_BLOCKS</code>\n",
      "and <code>THREADS_PER_BLOCK</code> are already defined for this case).\n",
      "<li> 2B) Implement the actual kernel function to negate an array element as follows:\n",
      "<code>\n",
      "    int idx = threadIdx.x;\n",
      "    d_a[idx] = -1 * d_a[idx];\n",
      "</code>\n",
      "\n",
      "<li> Compile and run the code by executing the above cells as before. This time the output should contain the result of negating each element of the input array. Because the array is initialised to the numbers 0 to 255, you should see the numbers 0 down to \u2212255 printed.\n",
      "\n",
      "This kernel works, but since it only uses one thread block, it will only be utilising one of the multiple SMs available on the GPU. Multiple thread blocks are needed to fully utilize the available resources.\n",
      "<li> 2C) Implement the kernel again, this time allowing multiple thread blocks. It will be very similar to the previous kernel implementation except that the array index will be computed differently:\n",
      "<code>\n",
      "    int idx = threadIdx.x + (blockIdx.x * blockDim.x);\n",
      "</code>    \n",
      "Remember to also change the kernel invocation to invoke negate_multiblock this time. With this version you can change <code>NUM_BLOCKS</code> and <code>THREADS_PER_BLOCK</code> to have different values \u2014 so long as they still multiply to give the array size.\n",
      "\n",
      "###Fortran:\n",
      "Now we will edit the intro.cuf and array_negate.cuf files to actually run a kernel on the GPU device.\n",
      "<li> 2A) Configure and launch the kernel using a 1D grid and a single thread block (<code>NUM_BLOCKS</code>\n",
      "and <code>THREADS_PER_BLOCK</code> are already defined for this case).\n",
      "<li> 2B) Implement the actual kernel function to negate an array element as follows:\n",
      "<code>\n",
      "integer :: idx\n",
      "\n",
      "idx = threadidx%x\n",
      "aa(idx) = -1*aa(idx)\n",
      "</code>\n",
      "\n",
      "<li> Compile and run the code by executing the above cells as before. This time the output should contain the result of negating each element of the input array. Because the array is initialised to the numbers 0 to 255, you should see the numbers 0 down to \u2212255 printed.\n",
      "\n",
      "This kernel works, but since it only uses one thread block, it will only be utilising one of the multiple SMs available on the GPU. Multiple thread blocks are needed to fully utilize the available resources.\n",
      "<li> 2C) Implement the kernel again, this time allowing multiple thread blocks. It will be very similar to the previous kernel implementation except that the array index will be computed differently:\n",
      "<code>\n",
      "idx = threadidx%x + ((blockidx%x-1) * blockdim%x)\n",
      "</code>    \n",
      "Remember to also change the kernel invocation to invoke g_negate_multiblock this time. With this version you can change <code>NUM_BLOCKS</code> and <code>THREADS_PER_BLOCK</code> to have different values \u2014 so long as they still multiply to give the array size.\n"
     ]
    },
    {
     "cell_type": "markdown",
     "metadata": {},
     "source": [
      "<a id=\"finished early\"></a>\n",
      "## Finished early?\n",
      "\n",
      "If you have time to spare, here are a couple of things to investigate:\n",
      "\n",
      "<ul>\n",
      "<li> Create a new cell of type \"code\" in this notebook using the menus above. Then in this cell execute the command <code>/usr/local/cuda/samples/1_Utilities/deviceQuery/deviceQuery</code>. This is a CUDA utility to query the properties of the GPUs on the system. Take some time to understand the information, using the internet to help you if need be. \n",
      "<li> Re-run the intro example code above, but before hand set <code>export COMPUTE_PROFILE=1</code>. This activates the CUDA profiler. After the code finishes, look in your source code browser to find a new file, which gives timing information. Take some time to understand this file. \n",
      "</ul>\n"
     ]
    },
    {
     "cell_type": "markdown",
     "metadata": {},
     "source": [
      "<a id=\"post-lab\"></a>\n",
      "## Post-Lab\n",
      "\n",
      "Finally, don't forget to save your work from this lab before time runs out and the instance shuts down!!\n",
      "\n",
      "1. Save this IPython Notebook by going to `File -> Download as -> IPython (.ipynb)` (or instead choose an html copy) at the top of this window.\n",
      "2. You can execute the following cell block to create a zip-file of the files you've been working on, and download it with the link below."
     ]
    },
    {
     "cell_type": "code",
     "collapsed": false,
     "input": [
      "!rm -f intro.zip; zip -r intro.zip src*; echo \"Complete\""
     ],
     "language": "python",
     "metadata": {},
     "outputs": [],
     "prompt_number": 2
    },
    {
     "cell_type": "markdown",
     "metadata": {},
     "source": [
      "**After** executing the above cell, you should be able to download the zip file [here](/files/KonstantinaPanagiotopoulou/intro/intro.zip)"
     ]
    },
    {
     "cell_type": "markdown",
     "metadata": {},
     "source": [
      "<style>\n",
      "p.hint_trigger{\n",
      "  margin-bottom:7px;\n",
      "  margin-top:-5px;\n",
      "  background:#64E84D;\n",
      "}\n",
      ".toggle_container{\n",
      "  margin-bottom:0px;\n",
      "}\n",
      ".toggle_container p{\n",
      "  margin:2px;\n",
      "}\n",
      ".toggle_container{\n",
      "  background:#f0f0f0;\n",
      "  clear: both;\n",
      "  font-size:100%;\n",
      "}\n",
      "</style>\n",
      "<script>\n",
      "$(\"p.hint_trigger\").click(function(){\n",
      "   $(this).toggleClass(\"active\").next().slideToggle(\"normal\");\n",
      "});\n",
      "   \n",
      "$(\".toggle_container\").hide();\n",
      "</script>"
     ]
    }
   ],
   "metadata": {}
  }
 ]
}